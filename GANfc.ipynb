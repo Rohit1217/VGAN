{
  "nbformat": 4,
  "nbformat_minor": 0,
  "metadata": {
    "colab": {
      "provenance": [],
      "gpuType": "T4",
      "include_colab_link": true
    },
    "kernelspec": {
      "name": "python3",
      "display_name": "Python 3"
    },
    "language_info": {
      "name": "python"
    },
    "accelerator": "GPU"
  },
  "cells": [
    {
      "cell_type": "markdown",
      "metadata": {
        "id": "view-in-github",
        "colab_type": "text"
      },
      "source": [
        "<a href=\"https://colab.research.google.com/github/Rohit1217/VGAN/blob/main/GANfc.ipynb\" target=\"_parent\"><img src=\"https://colab.research.google.com/assets/colab-badge.svg\" alt=\"Open In Colab\"/></a>"
      ]
    },
    {
      "cell_type": "code",
      "execution_count": 10,
      "metadata": {
        "id": "JOs5VlSpvU16"
      },
      "outputs": [],
      "source": [
        "import matplotlib.pyplot as plt\n",
        "import numpy as np\n",
        "\n",
        "import torch,torchvision\n",
        "from torch.utils.data import DataLoader,TensorDataset\n",
        "import torch.nn as nn\n",
        "import torch.optim as optim\n",
        "import torch.nn.functional as F\n",
        "from torchvision import datasets,transforms"
      ]
    },
    {
      "cell_type": "code",
      "source": [
        "trainset = datasets.MNIST('~/.pytorch/MNIST_data/', download=True, train=True)\n",
        "\n",
        "data=trainset.data\n",
        "data=data.to(dtype=torch.float32)\n",
        "norm = transforms.Normalize((128,),(128,))\n",
        "data=norm(data)\n",
        "#data=data*0.5+0.5\n",
        "\n",
        "data_target=trainset.targets.to(dtype=torch.float32)\n",
        "#data_target\n",
        "data=data.view(60000,784)\n",
        "data=data.to(dtype=torch.float32)\n",
        "#data_target=data_target.view(60000,1,28,28)\n",
        "\n",
        "trainset=TensorDataset(data,data)\n",
        "trainloader=DataLoader(trainset,batch_size=64,shuffle=True)"
      ],
      "metadata": {
        "id": "vFdNnZeqvbh2"
      },
      "execution_count": 11,
      "outputs": []
    },
    {
      "cell_type": "code",
      "source": [
        "Device = torch.device(\"cuda\" if torch.cuda.is_available() else \"cpu\")\n",
        "l=10"
      ],
      "metadata": {
        "id": "ahs5kNOEvcLY"
      },
      "execution_count": 12,
      "outputs": []
    },
    {
      "cell_type": "code",
      "source": [
        "class generator(nn.Module):\n",
        "  def __init__(self):\n",
        "    super(generator,self).__init__()\n",
        "    z=8\n",
        "    l=100\n",
        "    self.fc1=nn.Linear(l,32*z)\n",
        "    self.fc3=nn.Linear(32*z,64*z)\n",
        "    self.fc4=nn.Linear(64*z, 128*z)\n",
        "    self.fc5=nn.Linear(128*z,784)\n",
        "\n",
        "    self.bn1=nn.BatchNorm1d(16*z,0.8)\n",
        "    self.bn2=nn.BatchNorm1d(32*z,0.8)\n",
        "    self.bn3=nn.BatchNorm1d(64*z,0.8)\n",
        "    self.bn4=nn.BatchNorm1d(128*z,0.8)\n",
        "\n",
        "  def forward(self,b):\n",
        "    x=torch.randn(b,100).to(Device)\n",
        "    x=F.leaky_relu(self.bn2(self.fc1(x)),0.2,inplace=True)\n",
        "    #x=F.leaky_relu(self.bn2(self.fc2(x)),0.2,inplace=True)\n",
        "    x=F.leaky_relu(self.bn3(self.fc3(x)),0.2,inplace=True)\n",
        "    x=F.leaky_relu(self.bn4(self.fc4(x)),0.2,inplace=True)\n",
        "    x=F.tanh(self.fc5(x))\n",
        "    return x\n",
        "gen=generator().to(Device)\n",
        "y=gen(2)\n",
        "y.shape"
      ],
      "metadata": {
        "colab": {
          "base_uri": "https://localhost:8080/"
        },
        "id": "TLxt3w_Rvg0h",
        "outputId": "ebeb768b-cbcf-41b6-f627-930fa3e9452c"
      },
      "execution_count": 13,
      "outputs": [
        {
          "output_type": "execute_result",
          "data": {
            "text/plain": [
              "torch.Size([2, 784])"
            ]
          },
          "metadata": {},
          "execution_count": 13
        }
      ]
    },
    {
      "cell_type": "code",
      "source": [
        "class discriminator(nn.Module):\n",
        "  def __init__(self):\n",
        "    super(discriminator,self).__init__()\n",
        "    z=8\n",
        "    self.fc1=nn.Linear(784,64*z)\n",
        "    self.fc2=nn.Linear(64*z,32*z)\n",
        "    self.fc3=nn.Linear(32*z,1)\n",
        "    self.fc4=nn.Linear(4*z,1)\n",
        "\n",
        "    self.bn2=nn.BatchNorm1d(32*z)\n",
        "    self.bn3=nn.BatchNorm1d(4*z)\n",
        "    self.bn4=nn.BatchNorm1d(z)\n",
        "\n",
        "  def forward(self,x):\n",
        "    x=F.leaky_relu(self.fc1(x),0.2,True)\n",
        "    x=F.leaky_relu(self.bn2(self.fc2(x)),0.2,True)\n",
        "    #x=F.leaky_relu(self.bn3(self.fc3(x)),0.2,True)\n",
        "    #x=F.relu(self.bn4(self.fc4(x)))\n",
        "    x=F.sigmoid(self.fc3(x))\n",
        "    x=x.view(-1)\n",
        "    return x\n",
        "disc=discriminator().to(Device)\n",
        "disc(y)"
      ],
      "metadata": {
        "colab": {
          "base_uri": "https://localhost:8080/"
        },
        "id": "ToqUk2jxw6AW",
        "outputId": "4daad846-5264-42c0-eee6-235e6525b5fc"
      },
      "execution_count": 14,
      "outputs": [
        {
          "output_type": "execute_result",
          "data": {
            "text/plain": [
              "tensor([0.4866, 0.4285], grad_fn=<ViewBackward0>)"
            ]
          },
          "metadata": {},
          "execution_count": 14
        }
      ]
    },
    {
      "cell_type": "code",
      "source": [
        "epochs=100\n",
        "gen=generator().to(Device)\n",
        "disc=discriminator().to(Device)\n",
        "optimizer=optim.Adam(gen.parameters(),lr=0.0002,betas=(0.5,0.999))\n",
        "optimizer2=optim.Adam(disc.parameters(),lr=0.0002,betas=(0.5,0.999))\n",
        "criterion=nn.BCELoss()"
      ],
      "metadata": {
        "id": "xUQld2lux8Wg"
      },
      "execution_count": 15,
      "outputs": []
    },
    {
      "cell_type": "code",
      "source": [
        "for epoch in range(epochs):\n",
        "  disc_loss=0\n",
        "  gen_loss=0\n",
        "  count=0\n",
        "  for input,_ in trainloader:\n",
        "    input=input.to(Device)\n",
        "    b,c=input.shape\n",
        "\n",
        "    optimizer2.zero_grad()\n",
        "\n",
        "    real_label=torch.ones(b).to(Device)\n",
        "    real_out=disc(input)\n",
        "    loss_d_real=criterion(real_out,real_label)\n",
        "    #loss_d_real.backward()\n",
        "\n",
        "    fake_label=torch.zeros(b).to(Device)\n",
        "    fake_input=gen(b)\n",
        "    fake_out=disc(fake_input)\n",
        "    loss_d_fake=criterion(fake_out,fake_label)\n",
        "    #loss_d_fake.backward()\n",
        "    loss1=(loss_d_real+loss_d_fake)/2\n",
        "\n",
        "    disc_loss+=loss_d_real+loss_d_fake\n",
        "    loss1.backward()\n",
        "    optimizer2.step()\n",
        "\n",
        "\n",
        "\n",
        "    optimizer.zero_grad()\n",
        "    y=gen(b)\n",
        "    label=torch.ones(b).to(Device)\n",
        "    gen_out=disc(y)\n",
        "    loss_gen=criterion(gen_out,label)\n",
        "    gen_loss+=loss_gen.item()\n",
        "    #print(loss_gen)\n",
        "    #print(real_label,fake_label,label,real_out,fake_out,gen_out)\n",
        "\n",
        "    loss_gen.backward()\n",
        "    optimizer.step()\n",
        "\n",
        "    count+=1\n",
        "\n",
        "\n",
        "\n",
        "    #print(disc_loss,gen_loss)\n",
        "\n",
        "  print(f'epoch={epoch},total_gen_loss={gen_loss},total_disc_loss={disc_loss},mean_gen_loss={gen_loss/count},mean_disc_loss={disc_loss/count}')\n",
        "\n"
      ],
      "metadata": {
        "id": "_yQE1FpGkpDC"
      },
      "execution_count": null,
      "outputs": []
    },
    {
      "cell_type": "code",
      "source": [
        "with torch.no_grad():\n",
        "  #gen.eval()\n",
        "  z=gen(128)\n",
        "  z=z[:64]\n",
        "  x = z.view(8, 8, 28, 28)\n",
        "  x = x.to('cpu')\n",
        "  image_np = x.numpy()\n",
        "\n",
        "  # Create a figure and a set of subplots arranged in an 8x8 grid\n",
        "  fig, axes = plt.subplots(8, 8, figsize=(8, 8))\n",
        "\n",
        "  # Iterate through the subplots and display each image\n",
        "  for i in range(8):\n",
        "      for j in range(8):\n",
        "          axes[i, j].imshow(image_np[i, j], cmap='gray')\n",
        "          axes[i, j].axis('off')  # Turn off axis labels\n",
        "\n",
        "  plt.show()"
      ],
      "metadata": {
        "id": "jwjbHgtMzZx4"
      },
      "execution_count": null,
      "outputs": []
    },
    {
      "cell_type": "code",
      "source": [
        "#z=data[:128].to(Device)\n",
        "y=disc(z)\n",
        "y"
      ],
      "metadata": {
        "id": "uZAsbwERyYX0"
      },
      "execution_count": null,
      "outputs": []
    }
  ]
}